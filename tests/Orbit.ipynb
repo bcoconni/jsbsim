{
 "cells": [
  {
   "cell_type": "markdown",
   "metadata": {},
   "source": [
    "# Orbital test case\n",
    "## Free fall\n",
    "The first test that we are conducting is the simplest of all: the free fall. For this test, we consider a very simple object (a ball) that will be dropped from a high altitude above the sea level and JSBSim will compute its trajectory as the ball falls."
   ]
  },
  {
   "cell_type": "code",
   "execution_count": 1,
   "metadata": {
    "collapsed": false
   },
   "outputs": [
    {
     "data": {
      "text/plain": [
       "True"
      ]
     },
     "execution_count": 1,
     "metadata": {},
     "output_type": "execute_result"
    }
   ],
   "source": [
    "import jsbsim\n",
    "fdm = jsbsim.FGFDMExec(root_dir=\"./\") # We need to specify the current directory as ./\n",
    "fdm.set_aircraft_path('../aircraft')\n",
    "fdm.set_engine_path('../engine')\n",
    "fdm.set_systems_path('../systems')"
   ]
  },
  {
   "cell_type": "code",
   "execution_count": 2,
   "metadata": {
    "collapsed": false
   },
   "outputs": [
    {
     "data": {
      "text/plain": [
       "True"
      ]
     },
     "execution_count": 2,
     "metadata": {},
     "output_type": "execute_result"
    }
   ],
   "source": [
    "fdm.load_model('ball')"
   ]
  },
  {
   "cell_type": "code",
   "execution_count": 3,
   "metadata": {
    "collapsed": false
   },
   "outputs": [
    {
     "data": {
      "text/plain": [
       "True"
      ]
     },
     "execution_count": 3,
     "metadata": {},
     "output_type": "execute_result"
    }
   ],
   "source": [
    "fdm.set_property_value('ic/h-sl-ft', 800000.)\n",
    "fdm.set_property_value('simulation/gravity-model', 0) # Use standard gravity (spherical Earth)\n",
    "fdm.run_ic()"
   ]
  },
  {
   "cell_type": "code",
   "execution_count": 4,
   "metadata": {
    "collapsed": false
   },
   "outputs": [
    {
     "name": "stdout",
     "output_type": "stream",
     "text": [
      "<?xml version=\"1.0\"?>\n",
      "<initialize name=\"reset00\">\n",
      "  <ubody unit=\"FT/SEC\"> 0 </ubody> \n",
      "  <vbody unit=\"FT/SEC\"> 0 </vbody> \n",
      "  <wbody unit=\"FT/SEC\"> 0 </wbody> \n",
      "  <phi unit=\"DEG\"> 0 </phi>\n",
      "  <theta unit=\"DEG\"> 1.27222e-14 </theta>\n",
      "  <psi unit=\"DEG\"> 0 </psi>\n",
      "  <longitude unit=\"DEG\"> 0 </longitude>\n",
      "  <latitude unit=\"DEG\"> 0 </latitude>\n",
      "  <altitude unit=\"FT\"> 800000 </altitude>\n",
      "</initialize>\n",
      "\n"
     ]
    }
   ],
   "source": [
    "fdm.set_property_value('simulation/write-state-file',1)\n",
    "f = open('../aircraft/ball/initfile.0.xml','r')\n",
    "print f.read()\n",
    "f.close()"
   ]
  },
  {
   "cell_type": "code",
   "execution_count": 5,
   "metadata": {
    "collapsed": false
   },
   "outputs": [
    {
     "name": "stdout",
     "output_type": "stream",
     "text": [
      "[0.0] [799999.9999999963] [-0.0] [29.822735522824964]\n"
     ]
    }
   ],
   "source": [
    "time = [fdm.get_property_value('simulation/sim-time-sec')]\n",
    "alt = [fdm.get_property_value('position/h-sl-ft')]\n",
    "vel = [fdm.get_property_value('velocities/h-dot-fps')]\n",
    "grav = [fdm.get_property_value('accelerations/gravity-ft_sec2')]\n",
    "print time, alt, vel, grav"
   ]
  },
  {
   "cell_type": "code",
   "execution_count": 6,
   "metadata": {
    "collapsed": false
   },
   "outputs": [
    {
     "name": "stdout",
     "output_type": "stream",
     "text": [
      "Hit the ground at 230.650000s\n"
     ]
    }
   ],
   "source": [
    "while time[-1] < 250.0:\n",
    "    fdm.run()\n",
    "    time += [fdm.get_property_value('simulation/sim-time-sec')]\n",
    "    alt += [fdm.get_property_value('position/h-sl-ft')]\n",
    "    vel += [fdm.get_property_value('velocities/h-dot-fps')]\n",
    "    grav += [fdm.get_property_value('accelerations/gravity-ft_sec2')]\n",
    "    if fdm.get_property_value('gear/unit/WOW'):\n",
    "        print \"Hit the ground at %fs\" % (time[-1],)\n",
    "        break"
   ]
  },
  {
   "cell_type": "markdown",
   "metadata": {},
   "source": [
    "Assuming that the gravity is constant and equal to $g$, one can deduce how the altitude changes along the time by applying Newton 2nd Law:"
   ]
  },
  {
   "cell_type": "code",
   "execution_count": 24,
   "metadata": {
    "collapsed": false
   },
   "outputs": [],
   "source": [
    "import sympy\n",
    "sympy.init_printing()\n",
    "m,g,t,h0 = sympy.symbols('m,g,t,h0')\n",
    "h = sympy.Function('h')(t)\n",
    "\n",
    "class Eq(sympy.Eq):\n",
    "    def __mul__(self, other):\n",
    "        return Eq(self.args[0].__mul__(other), self.args[1].__mul__(other))\n",
    "    def __div__(self, other):\n",
    "        return Eq(self.args[0].__div__(other), self.args[1].__div__(other))\n",
    "    \n",
    "def integrate(eq, f, v, x0, y0):\n",
    "    \"\"\" Integrate the equation 'eq' and solve for the constant in the integrated 'eq'\n",
    "    such that f(x0)=y0 when v=x0\n",
    "    \n",
    "    Example\n",
    "    =======\n",
    "    >>> import sympy\n",
    "    >>> from sympy import Function, diff\n",
    "    >>> from sympy.abc import x, y\n",
    "    >>> f = Function('f')(x)\n",
    "    >>> integrate(diff(f,x)-y, f, x, 0, 1)\n",
    "    h(t) == y*t + 1\n",
    "    \"\"\"\n",
    "    integ = sympy.integrate(eq, v)\n",
    "    k0 = sympy.Symbol('k0')\n",
    "    expr = integ.subs(f,y0-k0) # Substitute the function \n",
    "    expr = expr.subs(v,x0) # Replace the variable by its value\n",
    "    k0 = sympy.solve(expr,k0)[0] # Solve for the constant\n",
    "    rhs = sympy.solve(integ, f)[0] # Extract the rhs member so that the final equation is f = rhs + k0\n",
    "    return Eq(f, rhs + k0)"
   ]
  },
  {
   "cell_type": "code",
   "execution_count": 25,
   "metadata": {
    "collapsed": false
   },
   "outputs": [
    {
     "data": {
      "image/png": "[encoded data removed]",
      "text/latex": [
       "$$m \\frac{d^{2}}{d t^{2}}  h{\\left (t \\right )} = - g m$$"
      ],
      "text/plain": [
       "    2             \n",
       "   d              \n",
       "m⋅───(h(t)) = -g⋅m\n",
       "    2             \n",
       "  dt              "
      ]
     },
     "execution_count": 25,
     "metadata": {},
     "output_type": "execute_result"
    }
   ],
   "source": [
    "Newton = Eq(m*sympy.diff(h,t,2),-m*g)\n",
    "Newton"
   ]
  },
  {
   "cell_type": "markdown",
   "metadata": {},
   "source": [
    "The altitude $h$ and the velocity $v$ are then equal to"
   ]
  },
  {
   "cell_type": "code",
   "execution_count": 26,
   "metadata": {
    "collapsed": false
   },
   "outputs": [
    {
     "data": {
      "image/png": "[encoded data removed]",
      "text/latex": [
       "$$v = \\frac{d}{d t} h{\\left (t \\right )} = - g t$$"
      ],
      "text/plain": [
       "    d              \n",
       "v = ──(h(t)) = -g⋅t\n",
       "    dt             "
      ]
     },
     "execution_count": 26,
     "metadata": {},
     "output_type": "execute_result"
    }
   ],
   "source": [
    "v = integrate(Newton/m, sympy.Derivative(h,t), t, 0, 0)\n",
    "Eq(sympy.Symbol('v'),v)"
   ]
  },
  {
   "cell_type": "code",
   "execution_count": 27,
   "metadata": {
    "collapsed": false
   },
   "outputs": [
    {
     "data": {
      "image/png": "[encoded data removed]",
      "text/latex": [
       "$$h{\\left (t \\right )} = - \\frac{g t^{2}}{2} + h_{0}$$"
      ],
      "text/plain": [
       "            2     \n",
       "         g⋅t      \n",
       "h(t) = - ──── + h₀\n",
       "          2       "
      ]
     },
     "execution_count": 27,
     "metadata": {},
     "output_type": "execute_result"
    }
   ],
   "source": [
    "integrate(v, h, t, 0, h0)"
   ]
  },
  {
   "cell_type": "code",
   "execution_count": 28,
   "metadata": {
    "collapsed": false
   },
   "outputs": [],
   "source": [
    "import numpy as np\n",
    "height = sympy.lambdify(t, Out[27].args[1].subs(g, grav[0]).subs(h0, alt[0]), \"numpy\")(np.array(time))\n",
    "hdot = sympy.lambdify(t, v.args[1].subs(g, grav[0]), \"numpy\")(np.array(time))\n",
    "dv = np.array(vel)-hdot"
   ]
  },
  {
   "cell_type": "code",
   "execution_count": 13,
   "metadata": {
    "collapsed": true
   },
   "outputs": [],
   "source": [
    "%matplotlib inline\n",
    "import matplotlib.pyplot as plt\n"
   ]
  },
  {
   "cell_type": "code",
   "execution_count": 29,
   "metadata": {
    "collapsed": false,
    "scrolled": false
   },
   "outputs": [
    {
     "data": {
      "image/png": "[encoded data removed]",
      "text/plain": [
       "<matplotlib.figure.Figure at 0xb04a5d0>"
      ]
     },
     "metadata": {},
     "output_type": "display_data"
    }
   ],
   "source": [
    "plt.figure(num=1, figsize=(13,4))\n",
    "ax1 = plt.subplot(121)\n",
    "ax1.plot(time,alt)\n",
    "ax1.plot(time,height)\n",
    "plt.title(\"Altitude\")\n",
    "plt.xlabel('Time (s)')\n",
    "ax1.set_ylabel('Altitude SL (ft)')\n",
    "ax2 = ax1.twinx()\n",
    "ax2.plot(time,np.array(alt)-height)\n",
    "ax2.set_ylabel('$\\Delta h$ (ft)')\n",
    "plt.grid(True)\n",
    "ax1 = plt.subplot(122)\n",
    "ax1.plot(time,vel)\n",
    "ax1.plot(time,hdot)\n",
    "plt.title(\"Velocity\")\n",
    "plt.xlabel('Time (s)')\n",
    "ax1.set_ylabel('Velocity (ft/s)')\n",
    "ax2 = ax1.twinx()\n",
    "ax2.plot(time,dv)\n",
    "ax2.set_ylabel('$\\Delta v$ (ft/s)')\n",
    "plt.tight_layout()\n",
    "plt.grid(True);"
   ]
  },
  {
   "cell_type": "markdown",
   "metadata": {},
   "source": [
    "There is an obvious mismatch between the values computed by JSBSim and the theoretical expressions that we obtained. A closer examination of the figure below shows that the gravity is not constant along the fall. So we will need to revisit our evaluation for better precision.\n",
    "\n",
    "First, we will check that the gravity computed by JSBSim behaves like the classical Newtonian law $-GM/r^2$"
   ]
  },
  {
   "cell_type": "code",
   "execution_count": 33,
   "metadata": {
    "collapsed": false
   },
   "outputs": [],
   "source": [
    "GM = 14.0764417572E15\n",
    "R0 = fdm.get_property_value('metrics/terrain-radius')\n",
    "accel_g = GM / (R0 + np.array(alt))**2"
   ]
  },
  {
   "cell_type": "code",
   "execution_count": 34,
   "metadata": {
    "collapsed": false
   },
   "outputs": [
    {
     "data": {
      "image/png": "[encoded data removed]",
      "text/plain": [
       "<matplotlib.figure.Figure at 0x6849110>"
      ]
     },
     "metadata": {},
     "output_type": "display_data"
    }
   ],
   "source": [
    "plt.figure(2)\n",
    "plt.plot(time,grav,label=\"JSBSim\")\n",
    "plt.plot(time,accel_g,label=\"$-GM/r^2$\")\n",
    "plt.title(\"Gravity\")\n",
    "plt.xlabel('Time (s)')\n",
    "plt.legend(loc=2)\n",
    "plt.grid(True);"
   ]
  },
  {
   "cell_type": "markdown",
   "metadata": {},
   "source": [
    "In the resolution of the 2nd law of Newton, we need to take into account the fact that the gravity is evolving along the fall."
   ]
  },
  {
   "cell_type": "code",
   "execution_count": 31,
   "metadata": {
    "collapsed": false
   },
   "outputs": [
    {
     "data": {
      "image/png": "[encoded data removed]",
      "text/latex": [
       "$$m \\frac{d^{2}}{d t^{2}}  r{\\left (t \\right )} = - \\frac{G M m}{r^{2}{\\left (t \\right )}}$$"
      ],
      "text/plain": [
       "    2                \n",
       "   d          -G⋅M⋅m \n",
       "m⋅───(r(t)) = ───────\n",
       "    2           2    \n",
       "  dt           r (t) "
      ]
     },
     "execution_count": 31,
     "metadata": {},
     "output_type": "execute_result"
    }
   ],
   "source": [
    "r = sympy.Function('r')(t)\n",
    "G, M = sympy.symbols('G,M')\n",
    "Newton2 = Eq(m*sympy.diff(r,t,2),-G*M*m/r**2)\n",
    "Newton2"
   ]
  },
  {
   "cell_type": "markdown",
   "metadata": {},
   "source": [
    "Multiplying both sides by $\\dot{r}$ and integrating gives"
   ]
  },
  {
   "cell_type": "code",
   "execution_count": 46,
   "metadata": {
    "collapsed": false
   },
   "outputs": [
    {
     "data": {
      "image/png": "[encoded data removed]",
      "text/latex": [
       "$$\\left(\\frac{d}{d t} r{\\left (t \\right )}\\right)^{2} = \\frac{2 G M}{r{\\left (t \\right )}} - \\frac{2 G M}{r{\\left (0 \\right )}}$$"
      ],
      "text/plain": [
       "          2                \n",
       "⎛d       ⎞    2⋅G⋅M   2⋅G⋅M\n",
       "⎜──(r(t))⎟  = ───── - ─────\n",
       "⎝dt      ⎠     r(t)    r(0)"
      ]
     },
     "execution_count": 46,
     "metadata": {},
     "output_type": "execute_result"
    }
   ],
   "source": [
    "integrate(Newton2/m*sympy.diff(r,t),sympy.Derivative(r,t)**2,t,0,0)"
   ]
  },
  {
   "cell_type": "markdown",
   "metadata": {},
   "source": [
    "and"
   ]
  },
  {
   "cell_type": "code",
   "execution_count": 81,
   "metadata": {
    "collapsed": false
   },
   "outputs": [
    {
     "data": {
      "image/png": "[encoded data removed]",
      "text/latex": [
       "$$\\begin{pmatrix}\\left(\\frac{\\partial}{\\partial t}\\left(R_{0} + h{\\left (t \\right )}\\right)\\right)^{2} = - \\frac{2 G M}{r{\\left (0 \\right )}} + \\frac{2 G M}{R_{0} + h{\\left (t \\right )}}\\end{pmatrix}$$"
      ],
      "text/plain": [
       "⎛               2                       ⎞\n",
       "⎜⎛∂            ⎞      2⋅G⋅M     2⋅G⋅M   ⎟\n",
       "⎜⎜──(R₀ + h(t))⎟  = - ───── + ─────────,⎟\n",
       "⎝⎝∂t           ⎠       r(0)   R₀ + h(t) ⎠"
      ]
     },
     "execution_count": 81,
     "metadata": {},
     "output_type": "execute_result"
    }
   ],
   "source": [
    "R0 = sympy.Symbol('R0')\n",
    "xx = Out[32].subs(r,R0+h)\n",
    "sympy.Mul.make_args(sympy.sympify(xx))\n",
    "#Eq(xx.args[0].func(sympy.diff(xx.args[0].args[0].args[0],t),2),xx.args[1])"
   ]
  },
  {
   "cell_type": "markdown",
   "metadata": {},
   "source": [
    "$\\dot{h} = \\sqrt{\\frac{2GM}{R_0+h}-\\frac{2GM}{R_0+h_0}}$"
   ]
  },
  {
   "cell_type": "code",
   "execution_count": 18,
   "metadata": {
    "collapsed": false
   },
   "outputs": [],
   "source": [
    "K = -2.0*GM/(R0+alt[0])\n",
    "hdot2 = 2.0*GM/(R0+np.array(alt))+K\n",
    "hdot = -np.sqrt(map(abs,hdot2)) # To work around negative values resulting from floating point errors (?)"
   ]
  },
  {
   "cell_type": "code",
   "execution_count": 19,
   "metadata": {
    "collapsed": false,
    "scrolled": false
   },
   "outputs": [
    {
     "data": {
      "image/png": "[encoded data removed]",
      "text/plain": [
       "<matplotlib.figure.Figure at 0x6018dd0>"
      ]
     },
     "metadata": {},
     "output_type": "display_data"
    }
   ],
   "source": [
    "plt.figure(3)\n",
    "plt.plot(time,hdot-np.array(vel))\n",
    "plt.plot(time,dv)\n",
    "plt.grid(True);"
   ]
  },
  {
   "cell_type": "code",
   "execution_count": 24,
   "metadata": {
    "collapsed": false
   },
   "outputs": [
    {
     "data": {
      "text/plain": [
       "<matplotlib.axes.AxesSubplot at 0x6f3b710>"
      ]
     },
     "execution_count": 24,
     "metadata": {},
     "output_type": "execute_result"
    },
    {
     "data": {
      "image/png": "[encoded data removed]",
      "text/plain": [
       "<matplotlib.figure.Figure at 0x6f3b2d0>"
      ]
     },
     "metadata": {},
     "output_type": "display_data"
    }
   ],
   "source": [
    "import pandas\n",
    "csv = pandas.read_csv('BallOut.csv',index_col='Time')\n",
    "csv['V_{Inertial} (ft/s)'].plot();\n",
    "#csv.columns"
   ]
  },
  {
   "cell_type": "code",
   "execution_count": 25,
   "metadata": {
    "collapsed": false
   },
   "outputs": [
    {
     "data": {
      "image/png": "[encoded data removed]",
      "text/latex": [
       "$$- \\frac{\\frac{d}{d t} h{\\left (t \\right )}}{\\left(R_{0} + h{\\left (t \\right )}\\right)^{2}}$$"
      ],
      "text/plain": [
       "  d         \n",
       " -──(h(t))  \n",
       "  dt        \n",
       "────────────\n",
       "           2\n",
       "(R₀ + h(t)) "
      ]
     },
     "execution_count": 25,
     "metadata": {},
     "output_type": "execute_result"
    }
   ],
   "source": [
    "import sympy\n",
    "sympy.init_printing()\n",
    "R0, t, GM, K = sympy.symbols('R0,t,GM,K')\n",
    "h = sympy.Function('h')(t)\n",
    "sympy.diff(1/(R0+h),t)"
   ]
  },
  {
   "cell_type": "code",
   "execution_count": 26,
   "metadata": {
    "collapsed": false
   },
   "outputs": [
    {
     "data": {
      "image/png": "[encoded data removed]",
      "text/latex": [
       "$$r{\\left (t \\right )} \\frac{d^{2}}{d t^{2}}  r{\\left (t \\right )} + \\left(\\frac{d}{d t} r{\\left (t \\right )}\\right)^{2}$$"
      ],
      "text/plain": [
       "       2                   2\n",
       "      d          ⎛d       ⎞ \n",
       "r(t)⋅───(r(t)) + ⎜──(r(t))⎟ \n",
       "       2         ⎝dt      ⎠ \n",
       "     dt                     "
      ]
     },
     "execution_count": 26,
     "metadata": {},
     "output_type": "execute_result"
    }
   ],
   "source": [
    "r = sympy.Function('r')(t)\n",
    "expr = sympy.diff(r**2,t,2)/2\n",
    "subexpr = expr.args[0]\n",
    "expr"
   ]
  },
  {
   "cell_type": "code",
   "execution_count": 27,
   "metadata": {
    "collapsed": false
   },
   "outputs": [
    {
     "data": {
      "image/png": "[encoded data removed]",
      "text/latex": [
       "$$\\frac{1}{2} \\left(\\frac{d}{d t} r{\\left (t \\right )}\\right)^{2} = \\frac{GM}{r{\\left (t \\right )}}$$"
      ],
      "text/plain": [
       "          2       \n",
       "⎛d       ⎞        \n",
       "⎜──(r(t))⎟        \n",
       "⎝dt      ⎠     GM \n",
       "─────────── = ────\n",
       "     2        r(t)"
      ]
     },
     "execution_count": 27,
     "metadata": {},
     "output_type": "execute_result"
    }
   ],
   "source": [
    "Newton = sympy.Eq(sympy.diff(r,t,2),-GM/r**2)\n",
    "N2 = Newton.func(sympy.diff(r,t)*Newton.args[0],sympy.diff(r,t)*Newton.args[1])\n",
    "sympy.integrate(N2,t)"
   ]
  },
  {
   "cell_type": "code",
   "execution_count": 29,
   "metadata": {
    "collapsed": false
   },
   "outputs": [
    {
     "data": {
      "image/png": "[encoded data removed]",
      "text/latex": [
       "$$\\frac{GM}{r{\\left (t \\right )}} + K$$"
      ],
      "text/plain": [
       " GM     \n",
       "──── + K\n",
       "r(t)    "
      ]
     },
     "execution_count": 29,
     "metadata": {},
     "output_type": "execute_result"
    }
   ],
   "source": [
    "expr.func(subexpr.func(-GM/r**2,subexpr.args[1]),2*GM/r+K)"
   ]
  },
  {
   "cell_type": "code",
   "execution_count": 33,
   "metadata": {
    "collapsed": false
   },
   "outputs": [
    {
     "data": {
      "image/png": "[encoded data removed]",
      "text/latex": [
       "$$h{\\left (t \\right )}$$"
      ],
      "text/plain": [
       "h(t)"
      ]
     },
     "execution_count": 33,
     "metadata": {},
     "output_type": "execute_result"
    }
   ],
   "source": [
    "h"
   ]
  },
  {
   "cell_type": "code",
   "execution_count": 31,
   "metadata": {
    "collapsed": false
   },
   "outputs": [
    {
     "data": {
      "image/png": "[encoded data removed]",
      "text/latex": [
       "$$20925646.3255$$"
      ],
      "text/plain": [
       "20925646.3255"
      ]
     },
     "execution_count": 31,
     "metadata": {},
     "output_type": "execute_result"
    }
   ],
   "source": [
    "fdm.reset_to_initial_conditions(1)\n",
    "fdm.get_property_value('metrics/terrain-radius')"
   ]
  }
 ],
 "metadata": {
  "kernelspec": {
   "display_name": "Python 2",
   "language": "python",
   "name": "python2"
  },
  "language_info": {
   "codemirror_mode": {
    "name": "ipython",
    "version": 2
   },
   "file_extension": ".py",
   "mimetype": "text/x-python",
   "name": "python",
   "nbconvert_exporter": "python",
   "pygments_lexer": "ipython2",
   "version": "2.7.5"
  }
 },
 "nbformat": 4,
 "nbformat_minor": 0
}
